{
 "cells": [
  {
   "cell_type": "markdown",
   "metadata": {
    "deletable": false,
    "nbgrader": {
     "checksum": "43b3180a65aade02d1f4bdf0d93617ef",
     "grade": false,
     "grade_id": "Header",
     "locked": true,
     "solution": false
    }
   },
   "source": [
    "<figure>\n",
    "<IMG SRC=\"../../lectures/images/PhysicsLogo.jpg\" WIDTH=100 ALIGN=\"right\">\n",
    "</figure>\n",
    "# [Physics 411](http://jklymak.github.io/Phy411/) Time Series Analysis\n",
    "*Jody Klymak*\n"
   ]
  },
  {
   "cell_type": "markdown",
   "metadata": {
    "deletable": false,
    "nbgrader": {
     "checksum": "e47179457200e77d9f882bfadca3f270",
     "grade": false,
     "grade_id": "Ass2",
     "locked": true,
     "solution": false
    }
   },
   "source": [
    "# Assignment 2"
   ]
  },
  {
   "cell_type": "markdown",
   "metadata": {
    "deletable": false,
    "nbgrader": {
     "checksum": "c84b1eae7b0c7d1ede0497a0fb4351ba",
     "grade": false,
     "grade_id": "q1",
     "locked": true,
     "solution": false
    }
   },
   "source": [
    "## Q1: Show that the correlation co-efficient is indeed related to the fraction of varaince explained by a linear dependence."
   ]
  },
  {
   "cell_type": "markdown",
   "metadata": {
    "deletable": false,
    "nbgrader": {
     "checksum": "4fee65133a7119a856e2ddbff90a1330",
     "grade": false,
     "grade_id": "q1_1",
     "locked": true,
     "solution": false
    }
   },
   "source": [
    "**1** To start, make a $N(0,1)$ random variable $x$, with 200,000 entries.  Then make a linearly dependent variable $y_i= a x_i + n_i$, where a is some amplitude, and $n_i$ is a random noise varaible.  Assume that $n_i$ is distributed as $N(0,n)$, where $n$ is the noise level.\n",
    "\n",
    "Calculate the correlation co-efficient $r_{xy}$ between $x$ and $y$ for 40 different values of $n$, logarithmically spaced between 0.01 and 100. (hint use `np.logspace`).  \n",
    "\n",
    "Plot $r_{xy}$ versus the inverse of the noise $n$ normalized by the standard devaition of the signal $ax_i$: $\\frac{a s_x}{n}$   You may want to use `ax.loglog` to visualize the orders of magnitude.  \n",
    "\n",
    "Comment on the resulting comparison.\n",
    "\n",
    "#### Coding hint:\n",
    "\n",
    "You are going to need to generate 40 realizations of the random process, so do this in a `for`-loop, and save the results in an array that you initialize before the for-loop:\n",
    "```python\n",
    "r = np.zeros(40)\n",
    "for ind,n in enumerate(noisevalues):\n",
    "  # make your random variable\n",
    "  ...\n",
    "  # calculate r\n",
    "  r[ind]=...\n",
    "```\n",
    "<hr>"
   ]
  },
  {
   "cell_type": "code",
   "execution_count": 2,
   "metadata": {
    "collapsed": true,
    "deletable": false,
    "nbgrader": {
     "checksum": "a2ac0c1adf88f53905c84cfa8152a0e8",
     "grade": false,
     "grade_id": "q1_1b",
     "locked": true,
     "solution": false
    }
   },
   "outputs": [],
   "source": [
    "import numpy as np\n",
    "import matplotlib.pyplot as plt\n",
    "%matplotlib inline"
   ]
  },
  {
   "cell_type": "code",
   "execution_count": 88,
   "metadata": {
    "collapsed": false,
    "deletable": false,
    "nbgrader": {
     "checksum": "615a3555604924ddd12af9c6646e2bec",
     "grade": true,
     "grade_id": "a1_1",
     "locked": false,
     "points": 2,
     "solution": true
    }
   },
   "outputs": [
    {
     "data": {
      "text/plain": [
       "<matplotlib.text.Text at 0x190f6b70>"
      ]
     },
     "execution_count": 88,
     "metadata": {},
     "output_type": "execute_result"
    },
    {
     "data": {
      "image/png": "[encoded data removed]",
      "text/plain": [
       "<matplotlib.figure.Figure at 0x17645d68>"
      ]
     },
     "metadata": {},
     "output_type": "display_data"
    }
   ],
   "source": [
    "# YOUR CODE HERE\n",
    "N = 200000\n",
    "a = 5\n",
    "noisevalues = np.logspace(-2,2, num=40)\n",
    "r = np.zeros(40)\n",
    "xstd = np.zeros(40)\n",
    "for ind,n in enumerate(noisevalues):\n",
    "    x = np.random.randn(N); xstd[ind] = np.std(x,ddof=1) ;x = (x - np.mean(x) )/ np.std(x)\n",
    "    ni = np.random.normal(0,noisevalues[ind],N)\n",
    "    y = a*x + ni\n",
    "    r[ind] = np.sum(x*y)/np.std(x,ddof=1)/np.std(y,ddof=1)/(N-1)\n",
    "Noise = a*xstd/noisevalues\n",
    "fig=plt.figure();ax=fig.add_subplot(1,1,1); \n",
    "ax.loglog(r,Noise,color = 'purple'); ax.set_title('Logarithmic Scale of $r_{xy}$ Versus $ {a \\sigma _{x}}/{n}$, $a=5$')\n",
    "ax.set_xlabel('Normalized Inverse of Noise $a \\sigma _{x} / n$');ax.set_ylabel('Correlation Coeffcient, $r_{xy}$')\n"
   ]
  },
  {
   "cell_type": "markdown",
   "metadata": {
    "deletable": false,
    "nbgrader": {
     "checksum": "6f8082999ba95685e223bdbb40cd8d8d",
     "grade": true,
     "grade_id": "a1_1b",
     "locked": false,
     "points": 1,
     "solution": true
    }
   },
   "source": [
    "YOUR ANSWER HERE"
   ]
  },
  {
   "cell_type": "markdown",
   "metadata": {
    "deletable": false,
    "nbgrader": {
     "checksum": "f0c126832969609d9d7e0fe20fe14fe0",
     "grade": false,
     "grade_id": "q1_2",
     "locked": true,
     "solution": false
    }
   },
   "source": [
    "**2** Repeat the above, but with a different value of $a$.  Comment on how (and why) $a$ changes the value of $r_{xy}$.  "
   ]
  },
  {
   "cell_type": "code",
   "execution_count": 87,
   "metadata": {
    "collapsed": false,
    "deletable": false,
    "nbgrader": {
     "checksum": "9569d50b7c0cf5dbff8fc5c4f2cd5ff3",
     "grade": true,
     "grade_id": "a1_2",
     "locked": false,
     "points": 1,
     "solution": true
    }
   },
   "outputs": [
    {
     "data": {
      "text/plain": [
       "<matplotlib.text.Text at 0x18b9c470>"
      ]
     },
     "execution_count": 87,
     "metadata": {},
     "output_type": "execute_result"
    },
    {
     "data": {
      "image/png": "[encoded data removed]",
      "text/plain": [
       "<matplotlib.figure.Figure at 0x188524a8>"
      ]
     },
     "metadata": {},
     "output_type": "display_data"
    }
   ],
   "source": [
    "# YOUR CODE HERE\n",
    "a = 0.9\n",
    "r = np.zeros(40)\n",
    "xstd = np.zeros(40)\n",
    "for ind,n in enumerate(noisevalues):\n",
    "    x = np.random.randn(N); xstd[ind] = np.std(x,ddof=1) ;x = (x - np.mean(x) )/ np.std(x)\n",
    "    ni = np.random.normal(0,noisevalues[ind],N)\n",
    "    y = a*x + ni\n",
    "    r[ind] = np.sum(x*y)/np.std(x,ddof=1)/np.std(y,ddof=1)/(N-1)\n",
    "Noise = a*xstd/noisevalues\n",
    "fig=plt.figure();ax=fig.add_subplot(1,1,1); \n",
    "ax.loglog(r,Noise,color = 'purple'); ax.set_title('Logarithmic Scale of $r_{xy}$ Versus $ {a \\sigma _{x}}/{n}$, $a=0.9$')\n",
    "ax.set_xlabel('Normalized Inverse of Noise $a \\sigma _{x} / n$');ax.set_ylabel('Correlation Coeffcient, $r_{xy}$')"
   ]
  },
  {
   "cell_type": "markdown",
   "metadata": {
    "deletable": false,
    "nbgrader": {
     "checksum": "7daf14d2fa7ec13d820cf8bbdf979c7b",
     "grade": true,
     "grade_id": "a1_2b",
     "locked": false,
     "points": 1,
     "solution": true
    }
   },
   "source": [
    "YOUR ANSWER HERE"
   ]
  },
  {
   "cell_type": "markdown",
   "metadata": {
    "deletable": false,
    "nbgrader": {
     "checksum": "ffa1283329b411645f6a7b354abaf6ae",
     "grade": false,
     "grade_id": "q2",
     "locked": true,
     "solution": false
    }
   },
   "source": [
    "## Q2: Monte Carlo on slopes and test versus student-t distribution"
   ]
  },
  {
   "cell_type": "markdown",
   "metadata": {
    "deletable": false,
    "nbgrader": {
     "checksum": "098e6c4d008a2eb0bd53b66f86145e6f",
     "grade": false,
     "grade_id": "q2_1",
     "locked": true,
     "solution": false
    }
   },
   "source": [
    "**1** We stated without proof that the slope $b$ of a linear fit of $y$ to $x$ is distributed as a student-t distribution with $N-2$ degrees of freedom, with a standard devaition given by the standard deviation of $y$ around the fit model $\\tilde{y}$.   Lets test that emperically using a Monte Carlo technique.  \n",
    "\n",
    "First create an independet variable $x$ from 10 points from an $N(0,1)$ distribution.\n",
    "\n",
    "Next, using $n=1.0$, and $a=1.0$ create the dependent variables $y_i=a x_i + n_i$ where $n_i$ are drawn from the $N(0,n)$ distribution.  Calculate the slope $b$.  \n",
    "\n",
    "Do this 10000 times, and make a histogram of the resulting fits $b$.  Also histogram $s_{y|x}$ as defined in the notes.\n",
    "\n",
    "Comment on the histigrams\n",
    "\n",
    "<hr>"
   ]
  },
  {
   "cell_type": "code",
   "execution_count": null,
   "metadata": {
    "collapsed": false,
    "deletable": false,
    "nbgrader": {
     "checksum": "a87309d86df7c91b25c865eaa07f776c",
     "grade": true,
     "grade_id": "a2_1",
     "locked": false,
     "points": 1,
     "solution": true
    }
   },
   "outputs": [],
   "source": [
    "# YOUR CODE HERE\n",
    "raise NotImplementedError()"
   ]
  },
  {
   "cell_type": "markdown",
   "metadata": {
    "deletable": false,
    "nbgrader": {
     "checksum": "a034d656485a8a63e93cbb149c8c5e4f",
     "grade": true,
     "grade_id": "a2_1b",
     "locked": false,
     "points": 1,
     "solution": true
    }
   },
   "source": [
    "YOUR ANSWER HERE"
   ]
  },
  {
   "cell_type": "markdown",
   "metadata": {
    "deletable": false,
    "nbgrader": {
     "checksum": "9cae73a741ce4f96461c6496f5e1d844",
     "grade": false,
     "grade_id": "q2_2",
     "locked": true,
     "solution": false
    }
   },
   "source": [
    "**2** Assuming $s_{y|x}=1.$ (which is the same as our value of $n$), plot the student-t probability density function on the histogram of b and show that they compare favorably (if they don't you might need to check your work!)\n",
    "\n",
    "<hr>"
   ]
  },
  {
   "cell_type": "code",
   "execution_count": null,
   "metadata": {
    "collapsed": false,
    "deletable": false,
    "nbgrader": {
     "checksum": "6de1efa85af79a97ae602c66e2987034",
     "grade": true,
     "grade_id": "a2_2",
     "locked": false,
     "points": 1,
     "solution": true
    }
   },
   "outputs": [],
   "source": [
    "# YOUR CODE HERE\n",
    "raise NotImplementedError()"
   ]
  },
  {
   "cell_type": "markdown",
   "metadata": {
    "deletable": false,
    "nbgrader": {
     "checksum": "fd8639ecdbd6d113a80cf7769ddf9054",
     "grade": false,
     "grade_id": "q2_3",
     "locked": true,
     "solution": false
    }
   },
   "source": [
    "**3** Do the same procedure for a different number of data points, and a different value for the noise level $n$.  Remember to scale your theoretical histogram by the new expected value of $s_{y|x}$."
   ]
  },
  {
   "cell_type": "code",
   "execution_count": null,
   "metadata": {
    "collapsed": false,
    "deletable": false,
    "nbgrader": {
     "checksum": "7f5939ff24c36342ea02a42ca1c749e0",
     "grade": true,
     "grade_id": "a2_3",
     "locked": false,
     "points": 1,
     "solution": true
    }
   },
   "outputs": [],
   "source": [
    "# YOUR CODE HERE\n",
    "raise NotImplementedError()"
   ]
  },
  {
   "cell_type": "markdown",
   "metadata": {
    "deletable": false,
    "nbgrader": {
     "checksum": "b2ad86ec11f7e23cacb8059a5cb749a5",
     "grade": false,
     "grade_id": "q3",
     "locked": true,
     "solution": false
    }
   },
   "source": [
    "## Q3: Linear comparison of Deep Cove data to James Bay temperature data"
   ]
  },
  {
   "cell_type": "markdown",
   "metadata": {
    "deletable": false,
    "nbgrader": {
     "checksum": "b3ba2db4306a50fdd9362e3a705efb4e",
     "grade": false,
     "grade_id": "q3prol",
     "locked": true,
     "solution": false
    }
   },
   "source": [
    "Data was collected from a number of weather stations by the Victoria Weather Network.  In the file below is hourly temperature data (in degrees Celsius) and we will consider two of the stations in that file:"
   ]
  },
  {
   "cell_type": "code",
   "execution_count": null,
   "metadata": {
    "collapsed": false,
    "deletable": false,
    "nbgrader": {
     "checksum": "8a62d368b383060a11151ae3976c8b6e",
     "grade": false,
     "grade_id": "q3a",
     "locked": true,
     "solution": false
    }
   },
   "outputs": [],
   "source": [
    "# Load the data:\n",
    "\n",
    "hourdata=np.genfromtxt('http://web.uvic.ca/~jklymak/Phy411/Data/AllHourly.txt')[[6,28],2:]\n",
    "dc = hourdata[0,:]\n",
    "jb=hourdata[1,:]\n",
    "dcc=dc[np.isfinite(dc+jb)]\n",
    "jb = jb[np.isfinite(dc+jb)]\n",
    "dc=dcc"
   ]
  },
  {
   "cell_type": "markdown",
   "metadata": {
    "deletable": false,
    "nbgrader": {
     "checksum": "df2543c5bf665b962b144398acb76a0c",
     "grade": false,
     "grade_id": "q3_1",
     "locked": true,
     "solution": false
    }
   },
   "source": [
    "**1** Make a scatterplot of James Bay versus Deep Cove."
   ]
  },
  {
   "cell_type": "code",
   "execution_count": null,
   "metadata": {
    "collapsed": false,
    "deletable": false,
    "nbgrader": {
     "checksum": "52c4c81e0ec214549a425bc05fdd7bca",
     "grade": true,
     "grade_id": "a3_1",
     "locked": false,
     "points": 1,
     "solution": true
    }
   },
   "outputs": [],
   "source": [
    "# YOUR CODE HERE\n",
    "raise NotImplementedError()"
   ]
  },
  {
   "cell_type": "markdown",
   "metadata": {
    "deletable": false,
    "nbgrader": {
     "checksum": "92799efd7e8f11e8329f0ef53c69f494",
     "grade": false,
     "grade_id": "q3_2",
     "locked": true,
     "solution": false
    }
   },
   "source": [
    "**2** Compute the linear Correlation Co-efficient (without a canned routine)"
   ]
  },
  {
   "cell_type": "code",
   "execution_count": null,
   "metadata": {
    "collapsed": false,
    "deletable": false,
    "nbgrader": {
     "checksum": "467ed86f100e827a165c6ec08eacc866",
     "grade": true,
     "grade_id": "a3_2",
     "locked": false,
     "points": 1,
     "solution": true
    }
   },
   "outputs": [],
   "source": [
    "# YOUR CODE HERE\n",
    "raise NotImplementedError()"
   ]
  },
  {
   "cell_type": "markdown",
   "metadata": {
    "deletable": false,
    "nbgrader": {
     "checksum": "3f8a68f9d795afb75566fa94f0a11818",
     "grade": false,
     "grade_id": "q3_3",
     "locked": true,
     "solution": false
    }
   },
   "source": [
    "**3** Fit a straight line to the James Bay data as a fucntion of the Deep Cove data, and add to the scatter plot made above.  Comment on the fit.\n",
    "\n",
    "<hr>"
   ]
  },
  {
   "cell_type": "code",
   "execution_count": null,
   "metadata": {
    "collapsed": false,
    "deletable": false,
    "nbgrader": {
     "checksum": "f7159b6a204c09f8dba8443317414f7d",
     "grade": true,
     "grade_id": "a3_3",
     "locked": false,
     "points": 1,
     "solution": true
    }
   },
   "outputs": [],
   "source": [
    "# YOUR CODE HERE\n",
    "raise NotImplementedError()"
   ]
  },
  {
   "cell_type": "markdown",
   "metadata": {
    "deletable": false,
    "nbgrader": {
     "checksum": "fddf5ffde38a7eb8dcb839e434c9dd01",
     "grade": true,
     "grade_id": "a3_3b",
     "locked": false,
     "points": 1,
     "solution": true
    }
   },
   "source": [
    "YOUR ANSWER HERE"
   ]
  },
  {
   "cell_type": "markdown",
   "metadata": {
    "deletable": false,
    "nbgrader": {
     "checksum": "6c4cfc4ba4f25bd0d971ff98b2cc7b5d",
     "grade": false,
     "grade_id": "q3_4",
     "locked": true,
     "solution": false
    }
   },
   "source": [
    "**4** Add the confidence intervals to your fit, and comment."
   ]
  },
  {
   "cell_type": "code",
   "execution_count": null,
   "metadata": {
    "collapsed": false,
    "deletable": false,
    "nbgrader": {
     "checksum": "20f13d3eebbd25f2ed50a18ca850b50a",
     "grade": true,
     "grade_id": "a3_4a",
     "locked": false,
     "points": 1,
     "solution": true
    }
   },
   "outputs": [],
   "source": [
    "# YOUR CODE HERE\n",
    "raise NotImplementedError()"
   ]
  },
  {
   "cell_type": "markdown",
   "metadata": {
    "deletable": false,
    "nbgrader": {
     "checksum": "8df10d307a6b019a5d70ed79ba275317",
     "grade": true,
     "grade_id": "a3_4b",
     "locked": false,
     "points": 1,
     "solution": true
    }
   },
   "source": [
    "YOUR ANSWER HERE"
   ]
  },
  {
   "cell_type": "markdown",
   "metadata": {
    "deletable": false,
    "nbgrader": {
     "checksum": "c53ce0fd5d0b6971d825f8659bc41821",
     "grade": false,
     "grade_id": "q3_5",
     "locked": true,
     "solution": false
    }
   },
   "source": [
    "**5** Note that we have assumed that the Deep Cove data is independent and that the James Bay data is dependent.  There is no reason to assume this!  Do the fit in the other direction, and compare the slopes."
   ]
  },
  {
   "cell_type": "code",
   "execution_count": null,
   "metadata": {
    "collapsed": false,
    "deletable": false,
    "nbgrader": {
     "checksum": "79416c08214025d93da7f6619cc31cce",
     "grade": true,
     "grade_id": "a3_5a",
     "locked": false,
     "points": 1,
     "solution": true
    }
   },
   "outputs": [],
   "source": [
    "# YOUR CODE HERE\n",
    "raise NotImplementedError()"
   ]
  },
  {
   "cell_type": "markdown",
   "metadata": {
    "deletable": false,
    "nbgrader": {
     "checksum": "700c63854ef5aa19acc85001f3a34f13",
     "grade": true,
     "grade_id": "a3_5b",
     "locked": false,
     "points": 1,
     "solution": true
    }
   },
   "source": [
    "YOUR ANSWER HERE"
   ]
  },
  {
   "cell_type": "markdown",
   "metadata": {
    "deletable": false,
    "nbgrader": {
     "checksum": "97f6a9e2c34496c05470642b9b37caad",
     "grade": false,
     "grade_id": "q3epilogue",
     "locked": true,
     "solution": false
    }
   },
   "source": [
    "**NOTE** There is a way to treat both axes independently called \"Neutral Regression\".  It is relatively simple, and involves normalizing the total distance of each point from the trend line. <a href=\"http://journals.ametsoc.org/doi/pdf/10.1175/1520-0426(1999)016%3C0876%3AAPFANR%3E2.0.CO%3B2\">(Marsden 1999)</a>. This technique is strongly preferred if there is no reason to think that one data set is dependent on the other.  A caveat is that the data sets shoudl be normalized before fitting so that the \"distance\" has meaning.  "
   ]
  }
 ],
 "metadata": {
  "kernelspec": {
   "display_name": "Python 2",
   "language": "python",
   "name": "python2"
  },
  "language_info": {
   "codemirror_mode": {
    "name": "ipython",
    "version": 2
   },
   "file_extension": ".py",
   "mimetype": "text/x-python",
   "name": "python",
   "nbconvert_exporter": "python",
   "pygments_lexer": "ipython2",
   "version": "2.7.10"
  }
 },
 "nbformat": 4,
 "nbformat_minor": 0
}
