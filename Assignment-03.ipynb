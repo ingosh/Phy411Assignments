{
 "cells": [
  {
   "cell_type": "markdown",
   "metadata": {
    "deletable": false,
    "nbgrader": {
     "checksum": "db8d76b6e1b32365458efab827dccc4f",
     "grade": false,
     "grade_id": "head",
     "locked": true,
     "solution": false
    }
   },
   "source": [
    "<figure>\n",
    "<IMG SRC=\"../../lectures/images/PhysicsLogo.jpg\" WIDTH=100 ALIGN=\"right\">\n",
    "</figure>\n",
    "# [Physics 411](http://jklymak.github.io/Phy411/) Time Series Analysis\n",
    "*Jody Klymak*\n"
   ]
  },
  {
   "cell_type": "markdown",
   "metadata": {
    "deletable": false,
    "nbgrader": {
     "checksum": "4b13c65cabadb180a3d9ebda8ead0446",
     "grade": false,
     "grade_id": "head2",
     "locked": true,
     "solution": false
    }
   },
   "source": [
    "# Assignment 3"
   ]
  },
  {
   "cell_type": "markdown",
   "metadata": {
    "deletable": false,
    "nbgrader": {
     "checksum": "30c4eb774a5f92079d59c3cbc7210b9b",
     "grade": false,
     "grade_id": "q1",
     "locked": true,
     "solution": false
    }
   },
   "source": [
    "## Q1: Lag correlations of weather time series"
   ]
  },
  {
   "cell_type": "code",
   "execution_count": null,
   "metadata": {
    "collapsed": false,
    "deletable": false,
    "nbgrader": {
     "checksum": "82334df58e813b38dee258789f77116c",
     "grade": false,
     "grade_id": "q1p0",
     "locked": true,
     "solution": false
    }
   },
   "outputs": [],
   "source": [
    "import numpy as np\n",
    "import matplotlib.pyplot as plt\n",
    "%matplotlib nbagg\n",
    "\n",
    "hourdata=np.genfromtxt('http://web.uvic.ca/~jklymak/Phy411/Data/AllHourly.txt')[[6,28],2:]\n",
    "dc = hourdata[0,:]\n",
    "jb=hourdata[1,:]"
   ]
  },
  {
   "cell_type": "markdown",
   "metadata": {
    "deletable": false,
    "nbgrader": {
     "checksum": "95d0e90be41c28ea2ec4abc8e57cd9ed",
     "grade": false,
     "grade_id": "q1p1",
     "locked": true,
     "solution": false
    }
   },
   "source": [
    "**1** From the hourly time series at Deep Cove (`dc`), calculate the *lag correlation co-efficient* $\\rho_{xx}(\\tau)$ out to a lag of $\\tau=30\\ \\mathrm{days}$ (Remember this data is hourly!).  (also remember to remove the mean of $dc$ before trying to do the calculations).  \n",
    "\n",
    "Comment on the resulting plot."
   ]
  },
  {
   "cell_type": "code",
   "execution_count": null,
   "metadata": {
    "collapsed": false,
    "deletable": false,
    "nbgrader": {
     "checksum": "772e1516527162118ffe3df61d5d7449",
     "grade": true,
     "grade_id": "q1a1",
     "locked": false,
     "points": 1,
     "solution": true
    }
   },
   "outputs": [],
   "source": [
    "# YOUR CODE HERE\n",
    "raise NotImplementedError()"
   ]
  },
  {
   "cell_type": "markdown",
   "metadata": {
    "deletable": false,
    "nbgrader": {
     "checksum": "13aee5f68eefbddb764cd431157ff046",
     "grade": true,
     "grade_id": "q1a1b",
     "locked": false,
     "points": 1,
     "solution": true
    }
   },
   "source": [
    "YOUR ANSWER HERE"
   ]
  },
  {
   "cell_type": "markdown",
   "metadata": {
    "deletable": false,
    "nbgrader": {
     "checksum": "64a658e7d8080c2bb8b394b8db74db3b",
     "grade": false,
     "grade_id": "q1p2",
     "locked": true,
     "solution": false
    }
   },
   "source": [
    "*2* Now, instead of doing the whole year, look at just the winter months and the summer months and compare the lag correlations (no need to do this for the whole time series, just choose one winter and one summer).  Make sure to indicate which lag correlation is which on the plots.\n",
    "\n",
    "Comment below on the different charcter of these two lag correlations."
   ]
  },
  {
   "cell_type": "code",
   "execution_count": null,
   "metadata": {
    "collapsed": false,
    "deletable": false,
    "nbgrader": {
     "checksum": "ced6b5a1f0150b1d2d051aecbcb1a1aa",
     "grade": true,
     "grade_id": "q1a2a",
     "locked": false,
     "points": 1,
     "solution": true
    }
   },
   "outputs": [],
   "source": [
    "# YOUR CODE HERE\n",
    "raise NotImplementedError()"
   ]
  },
  {
   "cell_type": "markdown",
   "metadata": {
    "deletable": false,
    "nbgrader": {
     "checksum": "7447871d5239e594db32cfd861b37418",
     "grade": true,
     "grade_id": "q1p2b",
     "locked": false,
     "points": 1,
     "solution": true
    }
   },
   "source": [
    "YOUR ANSWER HERE"
   ]
  },
  {
   "cell_type": "markdown",
   "metadata": {
    "deletable": false,
    "nbgrader": {
     "checksum": "4c645ed1457a83bb4e93dfd421b110de",
     "grade": false,
     "grade_id": "q2",
     "locked": true,
     "solution": false
    }
   },
   "source": [
    "## Q2 Emperically show that the expected value of a finite spectrum approaches the true spectrum as T goes to infinity."
   ]
  },
  {
   "cell_type": "markdown",
   "metadata": {
    "deletable": false,
    "nbgrader": {
     "checksum": "ee6c88237efd41d11264e6afb16a02bd",
     "grade": false,
     "grade_id": "q2p1",
     "locked": true,
     "solution": false
    }
   },
   "source": [
    "**1** Consider the process $x(t) = \\int_{t-b}^t y(t) \\ \\mathrm{dt}$ where $y(t)$ is uncorrelated white noise so that $R_{yy}(\\tau)=\\delta(\\tau)$.  Using the definition of $R_{xx}(\\tau)$, and the fact that expectation values (and integration) are linear operators, analytically show that this is a triangle function: \n",
    "\n",
    "\\begin{equation}\n",
    "    R_{xx}(\\tau)=\n",
    "    \\begin{cases}\n",
    "        b-|\\tau| & |\\tau|<b\\\\\n",
    "        0 & |\\tau|\\geq b\n",
    "    \\end{cases}\n",
    "\\end{equation}"
   ]
  },
  {
   "cell_type": "markdown",
   "metadata": {
    "deletable": false,
    "nbgrader": {
     "checksum": "abd0f8cd0eb1b1e4bdcd65fd15c4147a",
     "grade": true,
     "grade_id": "q2a1",
     "locked": false,
     "points": 1,
     "solution": true
    }
   },
   "source": [
    "YOUR ANSWER HERE"
   ]
  },
  {
   "cell_type": "markdown",
   "metadata": {
    "deletable": false,
    "nbgrader": {
     "checksum": "85148424610dafdda403bee692d12775",
     "grade": false,
     "grade_id": "q2p2",
     "locked": true,
     "points": 1,
     "solution": false
    }
   },
   "source": [
    "**2** Show emperically that you have the right *lag auto correlation* by computing the lag correlation of a random discrete timeseries $x(t)$. \n",
    "\n",
    "Hint: have a look at `np.convolve` to do the integration. \n",
    "\n",
    "Hint 2: Make sure your time series is long enough to get a nice representation of $R_{xx}(\\tau)$.  Show what happens if N is too small and what happens if it gets larger. To do this well,  I used `N in [500, 5000, 50000, 5e6]`, but my machine has a good amount of memory.  Don't *test* on the bigger values, as it is slow, just add them for the final product!"
   ]
  },
  {
   "cell_type": "code",
   "execution_count": null,
   "metadata": {
    "collapsed": false,
    "deletable": false,
    "nbgrader": {
     "checksum": "c22b4cf3a14711407c8b0cd71cf9c266",
     "grade": true,
     "grade_id": "q2a2",
     "locked": false,
     "points": 1,
     "solution": true
    }
   },
   "outputs": [],
   "source": [
    "# YOUR CODE HERE\n",
    "raise NotImplementedError()"
   ]
  },
  {
   "cell_type": "markdown",
   "metadata": {
    "deletable": false,
    "nbgrader": {
     "checksum": "ec01d54c070f05560d1ba3c0508047e1",
     "grade": false,
     "grade_id": "q2p3",
     "locked": true,
     "solution": false
    }
   },
   "source": [
    "**3** Derive (or look up) $S_{xx}(f)$ of this process:"
   ]
  },
  {
   "cell_type": "markdown",
   "metadata": {
    "deletable": false,
    "nbgrader": {
     "checksum": "f5b3a8bc450d64a774a774761756cf2f",
     "grade": true,
     "grade_id": "q2a3",
     "locked": false,
     "points": 1,
     "solution": true
    }
   },
   "source": [
    "YOUR ANSWER HERE"
   ]
  },
  {
   "cell_type": "markdown",
   "metadata": {
    "deletable": false,
    "nbgrader": {
     "checksum": "64e97e5f2ea2311a8b11236b70f571f8",
     "grade": false,
     "grade_id": "q2p4",
     "locked": true,
     "points": 1,
     "solution": false
    }
   },
   "source": [
    "**4** Demonstrate with finite values of $T$ that $\\lim_{T->\\infty}S_{xx}(f,T) = S_{xx}(f)$ does *not* converge to $S_{xx}(f)$.  Do this by taking longer values of $T$, fitting to the same set of $f$, and graphically showing that the spectral estimate does not improve.  (Do **not** use canned `fft` routines, unless you prove they work first.)\n",
    "\n",
    "Hints: \n",
    "  - When you choose your discrete values of $f$, make sure you don't choose them to be too high (i.e. if you define $\\Delta t=1 \\ \\mathrm{s}$ in your time series above, then there is no need to have frequencies greater than 1 Hz; actually no need to have them greater than 0.5 Hz, as we will see in the next lecture.\n",
    "  - I would recommend writing a small funtion to do the integration for the Fourier Transform so that you are not rewriting the same code.  To do this, you would do something like:\n",
    "\n",
    "```python\n",
    "def dft(x,dt,f): \n",
    "    # where x is your time series, dt is the sample rate in seconds, \n",
    "    # and f are the frequencies in Hz you want the Fourier Series calculated on\n",
    "    \n",
    "    # Your code in here\n",
    "    return X # where X is your Fourier tranform\n",
    "```\n",
    "\n",
    "  - Choose the length of your spectra to go up by decades (i.e. 500,5000,...)\n",
    "  - use `ax.loglog(f,X)` to make your plots.  We almost always plot spectra using `loglog`.\n",
    "\n"
   ]
  },
  {
   "cell_type": "code",
   "execution_count": null,
   "metadata": {
    "collapsed": false,
    "deletable": false,
    "nbgrader": {
     "checksum": "caa7d9732f55227f7944754acc4d6aea",
     "grade": true,
     "grade_id": "q2a4",
     "locked": false,
     "points": 1,
     "solution": true
    }
   },
   "outputs": [],
   "source": [
    "# YOUR CODE HERE\n",
    "raise NotImplementedError()"
   ]
  },
  {
   "cell_type": "markdown",
   "metadata": {
    "deletable": false,
    "nbgrader": {
     "checksum": "bca8e18eae835190023c660ac630f0b9",
     "grade": true,
     "grade_id": "q2a4b",
     "locked": false,
     "points": 1,
     "solution": true
    }
   },
   "source": [
    "YOUR ANSWER HERE"
   ]
  },
  {
   "cell_type": "markdown",
   "metadata": {
    "deletable": false,
    "nbgrader": {
     "checksum": "111674815079bff24e1821bb57d5dfe6",
     "grade": false,
     "grade_id": "q2p5",
     "locked": true,
     "solution": false
    }
   },
   "source": [
    "**5** Now demonstrate that the *expected value* of \n",
    "\n",
    "$$E\\left[\\lim_{T->\\infty}S_{xx}(f,T)\\right]$$ \n",
    "\n",
    "approaches $S_{xx}(f)$ by *averaging* a number of your moderate lengthed spectral estimates together.  Comment on the form of the spectrum relative to how you made the timeseries.\n",
    "\n",
    "Hints:\n",
    "  \n",
    "  - Just do what you did above, but average the results of `navg` non-overlapping segments of data.  \n",
    "  - This gets computationally expensive, I did `navg` of `1, 5, 50, 100` and got nice results.  Test your code on just `navg` of `1` and `5`, and when its working add the higher numbers."
   ]
  },
  {
   "cell_type": "code",
   "execution_count": null,
   "metadata": {
    "collapsed": false,
    "deletable": false,
    "nbgrader": {
     "checksum": "6908a0a1d15e82f26ef9c17d2cd91e04",
     "grade": true,
     "grade_id": "q2a5a",
     "locked": false,
     "points": 0,
     "solution": true
    }
   },
   "outputs": [],
   "source": [
    "# YOUR CODE HERE\n",
    "raise NotImplementedError()"
   ]
  },
  {
   "cell_type": "markdown",
   "metadata": {
    "deletable": false,
    "nbgrader": {
     "checksum": "b74f10dc68fb763b62f51217f115d53e",
     "grade": true,
     "grade_id": "q2a5b",
     "locked": false,
     "points": 1,
     "solution": true
    }
   },
   "source": [
    "YOUR ANSWER HERE"
   ]
  }
 ],
 "metadata": {
  "kernelspec": {
   "display_name": "Python 2",
   "language": "python",
   "name": "python2"
  },
  "language_info": {
   "codemirror_mode": {
    "name": "ipython",
    "version": 2
   },
   "file_extension": ".py",
   "mimetype": "text/x-python",
   "name": "python",
   "nbconvert_exporter": "python",
   "pygments_lexer": "ipython2",
   "version": "2.7.10"
  }
 },
 "nbformat": 4,
 "nbformat_minor": 0
}